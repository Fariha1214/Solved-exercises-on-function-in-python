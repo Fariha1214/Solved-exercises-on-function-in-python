{
 "cells": [
  {
   "cell_type": "code",
   "execution_count": null,
   "id": "1fcbe6f4",
   "metadata": {},
   "outputs": [],
   "source": [
    "#Fariha Imran\n",
    "#FA24-BBD-027"
   ]
  },
  {
   "cell_type": "code",
   "execution_count": 21,
   "id": "1881d1fb",
   "metadata": {},
   "outputs": [
    {
     "name": "stdout",
     "output_type": "stream",
     "text": [
      "Hello, Farhan! The current time is 12:49:27.\n"
     ]
    }
   ],
   "source": [
    "#Question:1\n",
    "from datetime import datetime\n",
    "\n",
    "def greet_with_time(name):\n",
    "    current_time = datetime.now().strftime(\"%H:%M:%S\")\n",
    "    greeting_message = f\"Hello, {name}! The current time is {current_time}.\"\n",
    "    print(greeting_message)\n",
    "greet_with_time(\"Farhan\")"
   ]
  },
  {
   "cell_type": "code",
   "execution_count": 25,
   "id": "ee136b87",
   "metadata": {},
   "outputs": [
    {
     "name": "stdout",
     "output_type": "stream",
     "text": [
      "The average is:26.0\n"
     ]
    }
   ],
   "source": [
    "#Question:2\n",
    "def calculate_average(a, b, c, d, e):\n",
    "    average = (a+b+c+d+e)/5\n",
    "    return average\n",
    "result = calculate_average(25,14,8,56,27)\n",
    "print(f'The average is:{result}')"
   ]
  },
  {
   "cell_type": "code",
   "execution_count": 26,
   "id": "fad28a35",
   "metadata": {},
   "outputs": [
    {
     "name": "stdout",
     "output_type": "stream",
     "text": [
      "The final price after a 10% discount is: $98.10\n",
      "The final price after a 20% discount is: $87.20\n"
     ]
    }
   ],
   "source": [
    "#Question:3\n",
    "def calculate_discount(price, discount_percentage=10):\n",
    "    discount_amount = (discount_percentage / 100) * price\n",
    "    final_price = price - discount_amount\n",
    "    return final_price\n",
    "original_price = 109 \n",
    "final_price = calculate_discount(original_price)\n",
    "print(f\"The final price after a 10% discount is: ${final_price:.2f}\")\n",
    "final_price_with_custom_discount = calculate_discount(original_price, 20)\n",
    "print(f\"The final price after a 20% discount is: ${final_price_with_custom_discount:.2f}\")"
   ]
  },
  {
   "cell_type": "code",
   "execution_count": 27,
   "id": "b59f3c6e",
   "metadata": {},
   "outputs": [
    {
     "name": "stdout",
     "output_type": "stream",
     "text": [
      "Name: Fariha\n",
      "Age: 18\n",
      "City: Lahore\n"
     ]
    }
   ],
   "source": [
    "#Question:4\n",
    "def print_info(name, age, city):\n",
    "    print(f\"Name: {name}\")\n",
    "    print(f\"Age: {age}\")\n",
    "    print(f\"City: {city}\")\n",
    "print_info(name=\"Fariha\", age=18, city=\"Lahore\")"
   ]
  },
  {
   "cell_type": "code",
   "execution_count": 28,
   "id": "db8f3a00",
   "metadata": {},
   "outputs": [
    {
     "name": "stdout",
     "output_type": "stream",
     "text": [
      "The maximum value is: 30\n",
      "The maximum value is: -5\n",
      "The maximum value is: None\n"
     ]
    }
   ],
   "source": [
    "#Question:5\n",
    "def find_max(*args):\n",
    "    if not args:\n",
    "        return None  \n",
    "    maximum_value = max(args)\n",
    "    return maximum_value\n",
    "\n",
    "max_value = find_max(10, 20, 5, 30, 15)\n",
    "print(f\"The maximum value is: {max_value}\")\n",
    "\n",
    "max_value_with_negatives = find_max(-10, -20, -5, -30, -15)\n",
    "print(f\"The maximum value is: {max_value_with_negatives}\")\n",
    "\n",
    "max_value_empty = find_max()\n",
    "print(f\"The maximum value is: {max_value_empty}\")"
   ]
  },
  {
   "cell_type": "code",
   "execution_count": 29,
   "id": "eb605fbb",
   "metadata": {},
   "outputs": [
    {
     "name": "stdout",
     "output_type": "stream",
     "text": [
      "The factorial of 9 is: 362880\n",
      "The factorial of 8 is: 40320\n"
     ]
    }
   ],
   "source": [
    "#Question:6\n",
    "def factorial(n):\n",
    "    if n == 0 or n == 1:\n",
    "        return 1\n",
    "    else:\n",
    "        return n * factorial(n - 1)\n",
    "\n",
    "number = 9\n",
    "result = factorial(number)\n",
    "print(f\"The factorial of {number} is: {result}\")\n",
    "\n",
    "result_eight = factorial(8)\n",
    "print(f\"The factorial of 8 is: {result_eight}\")"
   ]
  },
  {
   "cell_type": "code",
   "execution_count": 30,
   "id": "54aab260",
   "metadata": {},
   "outputs": [
    {
     "name": "stdout",
     "output_type": "stream",
     "text": [
      "Squared numbers: [1, 576, 169, 2025, 49]\n",
      "Doubled numbers: [2, 48, 26, 90, 14]\n"
     ]
    }
   ],
   "source": [
    "#Question:7\n",
    "def apply_function(func, numbers):\n",
    "    return [func(num) for num in numbers]\n",
    "def square(x):\n",
    "    return x * x\n",
    "\n",
    "def double(x):\n",
    "    return x * 2\n",
    "\n",
    "numbers = [1, 24, 13, 45, 7]\n",
    "squared_numbers = apply_function(square, numbers)\n",
    "print(f\"Squared numbers: {squared_numbers}\")\n",
    "doubled_numbers = apply_function(double, numbers)\n",
    "print(f\"Doubled numbers: {doubled_numbers}\")"
   ]
  },
  {
   "cell_type": "code",
   "execution_count": 3,
   "id": "77feb5a3",
   "metadata": {},
   "outputs": [
    {
     "name": "stdout",
     "output_type": "stream",
     "text": [
      "The square of 12 is: 144\n"
     ]
    }
   ],
   "source": [
    "#Question:8\n",
    "square = lambda x: x ** 2\n",
    "result = square(12)\n",
    "print('The square of 12 is:', result)"
   ]
  },
  {
   "cell_type": "code",
   "execution_count": 7,
   "id": "91bba364-c076-4778-a525-857ecef1a5ab",
   "metadata": {},
   "outputs": [
    {
     "name": "stdout",
     "output_type": "stream",
     "text": [
      "[1, 4, 16, 36, 64]\n"
     ]
    }
   ],
   "source": [
    "#Question:9\n",
    "def apply_operation(func, numbers):\n",
    "    return [func(num) for num in numbers]\n",
    "square = lambda x: x ** 2\n",
    "numbers = [1, 2, 4, 6, 8]\n",
    "squared_numbers = apply_operation(square, numbers)\n",
    "print(squared_numbers) "
   ]
  },
  {
   "cell_type": "code",
   "execution_count": 9,
   "id": "cb1b262e-14d0-4535-a70d-3c95b3f92e7c",
   "metadata": {},
   "outputs": [
    {
     "name": "stdout",
     "output_type": "stream",
     "text": [
      "Execution time of example_function: 0.031369 seconds\n",
      "Result: 27377883000\n"
     ]
    }
   ],
   "source": [
    "#Question:10\n",
    "import time\n",
    "def time_it(func):\n",
    "    def wrapper(*args, **kwargs):\n",
    "        start_time = time.time() \n",
    "        result = func(*args, **kwargs)  \n",
    "        end_time = time.time()  \n",
    "        execution_time = end_time - start_time  \n",
    "        print(f\"Execution time of {func.__name__}: {execution_time:.6f} seconds\")\n",
    "        return result  \n",
    "    return wrapper\n",
    "\n",
    "@time_it\n",
    "def example_function(n):\n",
    "    total = 0\n",
    "    for i in range(n):\n",
    "        total += i\n",
    "    return total\n",
    "\n",
    "\n",
    "result = example_function(234000)\n",
    "print(f\"Result: {result}\")"
   ]
  },
  {
   "cell_type": "code",
   "execution_count": null,
   "id": "33e0d673-3359-4105-babe-5a59c862b88b",
   "metadata": {},
   "outputs": [],
   "source": []
  },
  {
   "cell_type": "code",
   "execution_count": null,
   "id": "20e35c0c-1fe1-4bfc-90e8-c24f2f6c9e20",
   "metadata": {},
   "outputs": [],
   "source": []
  }
 ],
 "metadata": {
  "kernelspec": {
   "display_name": "Python 3 (ipykernel)",
   "language": "python",
   "name": "python3"
  },
  "language_info": {
   "codemirror_mode": {
    "name": "ipython",
    "version": 3
   },
   "file_extension": ".py",
   "mimetype": "text/x-python",
   "name": "python",
   "nbconvert_exporter": "python",
   "pygments_lexer": "ipython3",
   "version": "3.12.4"
  }
 },
 "nbformat": 4,
 "nbformat_minor": 5
}
